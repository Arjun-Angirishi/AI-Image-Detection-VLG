{
  "nbformat": 4,
  "nbformat_minor": 0,
  "metadata": {
    "colab": {
      "provenance": [],
      "gpuType": "T4"
    },
    "kernelspec": {
      "name": "python3",
      "display_name": "Python 3"
    },
    "language_info": {
      "name": "python"
    },
    "accelerator": "GPU"
  },
  "cells": [
    {
      "cell_type": "code",
      "source": [
        "#Mounting Google Drive\n",
        "from google.colab import drive\n",
        "drive.mount('/content/gdrive')"
      ],
      "metadata": {
        "colab": {
          "base_uri": "https://localhost:8080/"
        },
        "id": "xiiWFljD1u5t",
        "outputId": "2ed9d352-f93f-4d3f-99cb-faa05dc472f6"
      },
      "execution_count": 1,
      "outputs": [
        {
          "output_type": "stream",
          "name": "stdout",
          "text": [
            "Drive already mounted at /content/gdrive; to attempt to forcibly remount, call drive.mount(\"/content/gdrive\", force_remount=True).\n"
          ]
        }
      ]
    },
    {
      "cell_type": "code",
      "source": [
        "#Importing Basic Libraries\n",
        "import tensorflow as tf\n",
        "from tensorflow import keras\n",
        "from keras.models import Sequential\n",
        "from keras.layers import Dropout\n",
        "from keras.layers import Dense\n",
        "from keras.layers import BatchNormalization\n",
        "from keras.callbacks import EarlyStopping\n",
        "import numpy as np\n",
        "import pandas as pd\n"
      ],
      "metadata": {
        "id": "ZCaBJuJEy10P"
      },
      "execution_count": 2,
      "outputs": []
    },
    {
      "cell_type": "code",
      "source": [
        "tf.config.run_functions_eagerly(True)"
      ],
      "metadata": {
        "id": "brSQskqs7Vi7"
      },
      "execution_count": 3,
      "outputs": []
    },
    {
      "cell_type": "code",
      "source": [
        "#Reading the Datasets\n",
        "df=pd.read_csv('/content/gdrive/MyDrive/train.csv')\n",
        "test_data=pd.read_csv('/content/gdrive/MyDrive/test.csv')"
      ],
      "metadata": {
        "id": "DzCKfXsL1O6F"
      },
      "execution_count": 4,
      "outputs": []
    },
    {
      "cell_type": "code",
      "source": [
        "df.shape\n"
      ],
      "metadata": {
        "id": "6S6pPX3A1vev",
        "colab": {
          "base_uri": "https://localhost:8080/"
        },
        "outputId": "bc756eca-5471-4725-c140-9786aca1a8ef"
      },
      "execution_count": 5,
      "outputs": [
        {
          "output_type": "execute_result",
          "data": {
            "text/plain": [
              "(5250, 1201)"
            ]
          },
          "metadata": {},
          "execution_count": 5
        }
      ]
    },
    {
      "cell_type": "code",
      "source": [
        "df.sample(10)"
      ],
      "metadata": {
        "id": "WNscA-FE11Dy",
        "colab": {
          "base_uri": "https://localhost:8080/",
          "height": 456
        },
        "outputId": "d62beedf-ebe5-4d8e-88c4-5773da059f0d"
      },
      "execution_count": 6,
      "outputs": [
        {
          "output_type": "execute_result",
          "data": {
            "text/plain": [
              "      labels       f_0       f_1       f_2       f_3       f_4       f_5  \\\n",
              "786        1  0.169474 -2.476358 -0.949854 -0.502623 -0.821486 -0.486267   \n",
              "3335       0  0.474419 -0.113313  0.488412  1.733844  0.572374 -0.379192   \n",
              "514        0 -1.749588 -0.040031  0.817171 -1.076974  0.409713 -0.178440   \n",
              "4778       0  0.991513 -0.583872  1.052105  1.112697  1.112697 -0.280913   \n",
              "2777       0  1.180767 -0.089854  1.237790 -0.473307  1.226385  0.678972   \n",
              "4388       0  1.026874 -0.541431  0.948459  1.026874  1.026874 -0.494382   \n",
              "3856       0  1.271477  0.213250  1.284227  1.207729  0.978234  0.480994   \n",
              "1159       0 -1.123127 -0.695765  0.237126 -1.183269  0.158651 -0.530502   \n",
              "1495       0  1.805587  0.876869  0.205508 -0.110666  0.358262  0.351910   \n",
              "3573       0  0.958968 -0.018941  1.421493  1.421493 -1.155431  0.443583   \n",
              "\n",
              "           f_6       f_7       f_8  ...    f_1190    f_1191    f_1192  \\\n",
              "786  -0.565750  1.109564  2.513141  ...  2.745427 -1.473662 -0.978321   \n",
              "3335 -1.596637 -0.868969  0.530393  ...  1.789819  0.166559  1.188093   \n",
              "514   0.445176 -0.728030  0.695594  ... -0.121197  0.759468  1.021320   \n",
              "4778  1.076342 -1.032251 -1.807826  ...  1.076342  0.615845  0.106874   \n",
              "2777 -1.031162 -1.135561 -0.589982  ... -0.497705  0.737362 -1.843365   \n",
              "4388  1.026874 -1.796075  0.932775  ...  1.026874 -0.180721  0.101574   \n",
              "3856 -0.768479 -0.475235 -0.449736  ...  1.284227 -1.405966  0.238749   \n",
              "1159  0.676461 -0.770826 -0.954423  ... -2.369986 -1.785473  1.126078   \n",
              "1495  0.353190  1.211651  0.089564  ... -0.312798 -1.007265 -1.517746   \n",
              "3573 -0.071801 -0.706121  0.707883  ...  1.421493 -1.723676  0.773958   \n",
              "\n",
              "        f_1193    f_1194    f_1195    f_1196    f_1197    f_1198    f_1199  \n",
              "786   2.134376  0.064886  0.321780  0.184409  0.217003 -0.913699 -0.680156  \n",
              "3335  0.782278  0.698316 -1.750567 -0.924943  0.530393 -0.799001 -0.561109  \n",
              "514  -0.262521  0.266192 -0.724414  2.823658  0.849827  0.206259  0.541818  \n",
              "4778  1.064224  1.039987 -1.383684 -0.826239  1.076342 -1.553340 -1.117080  \n",
              "2777  0.396836  0.479072 -2.252003 -0.085125 -1.218667  0.935574 -0.142147  \n",
              "4388 -0.353235  0.838677 -2.674326 -1.074655  1.011191  0.932775 -2.078370  \n",
              "3856 -1.240219  0.136751 -0.041745 -0.347738  1.284227 -0.908726 -0.424237  \n",
              "1159 -0.199772 -0.939673 -0.024669 -2.185132 -0.565934  0.081035 -0.354286  \n",
              "1495  0.168582 -2.282693  0.224540  1.602245 -1.612459  0.335077  0.532338  \n",
              "3573 -1.710461  1.196838 -0.256811  0.152853  1.421493 -1.512236  0.258573  \n",
              "\n",
              "[10 rows x 1201 columns]"
            ],
            "text/html": [
              "\n",
              "  <div id=\"df-9a74050e-faa6-4ae6-a520-e6caba7ec679\">\n",
              "    <div class=\"colab-df-container\">\n",
              "      <div>\n",
              "<style scoped>\n",
              "    .dataframe tbody tr th:only-of-type {\n",
              "        vertical-align: middle;\n",
              "    }\n",
              "\n",
              "    .dataframe tbody tr th {\n",
              "        vertical-align: top;\n",
              "    }\n",
              "\n",
              "    .dataframe thead th {\n",
              "        text-align: right;\n",
              "    }\n",
              "</style>\n",
              "<table border=\"1\" class=\"dataframe\">\n",
              "  <thead>\n",
              "    <tr style=\"text-align: right;\">\n",
              "      <th></th>\n",
              "      <th>labels</th>\n",
              "      <th>f_0</th>\n",
              "      <th>f_1</th>\n",
              "      <th>f_2</th>\n",
              "      <th>f_3</th>\n",
              "      <th>f_4</th>\n",
              "      <th>f_5</th>\n",
              "      <th>f_6</th>\n",
              "      <th>f_7</th>\n",
              "      <th>f_8</th>\n",
              "      <th>...</th>\n",
              "      <th>f_1190</th>\n",
              "      <th>f_1191</th>\n",
              "      <th>f_1192</th>\n",
              "      <th>f_1193</th>\n",
              "      <th>f_1194</th>\n",
              "      <th>f_1195</th>\n",
              "      <th>f_1196</th>\n",
              "      <th>f_1197</th>\n",
              "      <th>f_1198</th>\n",
              "      <th>f_1199</th>\n",
              "    </tr>\n",
              "  </thead>\n",
              "  <tbody>\n",
              "    <tr>\n",
              "      <th>786</th>\n",
              "      <td>1</td>\n",
              "      <td>0.169474</td>\n",
              "      <td>-2.476358</td>\n",
              "      <td>-0.949854</td>\n",
              "      <td>-0.502623</td>\n",
              "      <td>-0.821486</td>\n",
              "      <td>-0.486267</td>\n",
              "      <td>-0.565750</td>\n",
              "      <td>1.109564</td>\n",
              "      <td>2.513141</td>\n",
              "      <td>...</td>\n",
              "      <td>2.745427</td>\n",
              "      <td>-1.473662</td>\n",
              "      <td>-0.978321</td>\n",
              "      <td>2.134376</td>\n",
              "      <td>0.064886</td>\n",
              "      <td>0.321780</td>\n",
              "      <td>0.184409</td>\n",
              "      <td>0.217003</td>\n",
              "      <td>-0.913699</td>\n",
              "      <td>-0.680156</td>\n",
              "    </tr>\n",
              "    <tr>\n",
              "      <th>3335</th>\n",
              "      <td>0</td>\n",
              "      <td>0.474419</td>\n",
              "      <td>-0.113313</td>\n",
              "      <td>0.488412</td>\n",
              "      <td>1.733844</td>\n",
              "      <td>0.572374</td>\n",
              "      <td>-0.379192</td>\n",
              "      <td>-1.596637</td>\n",
              "      <td>-0.868969</td>\n",
              "      <td>0.530393</td>\n",
              "      <td>...</td>\n",
              "      <td>1.789819</td>\n",
              "      <td>0.166559</td>\n",
              "      <td>1.188093</td>\n",
              "      <td>0.782278</td>\n",
              "      <td>0.698316</td>\n",
              "      <td>-1.750567</td>\n",
              "      <td>-0.924943</td>\n",
              "      <td>0.530393</td>\n",
              "      <td>-0.799001</td>\n",
              "      <td>-0.561109</td>\n",
              "    </tr>\n",
              "    <tr>\n",
              "      <th>514</th>\n",
              "      <td>0</td>\n",
              "      <td>-1.749588</td>\n",
              "      <td>-0.040031</td>\n",
              "      <td>0.817171</td>\n",
              "      <td>-1.076974</td>\n",
              "      <td>0.409713</td>\n",
              "      <td>-0.178440</td>\n",
              "      <td>0.445176</td>\n",
              "      <td>-0.728030</td>\n",
              "      <td>0.695594</td>\n",
              "      <td>...</td>\n",
              "      <td>-0.121197</td>\n",
              "      <td>0.759468</td>\n",
              "      <td>1.021320</td>\n",
              "      <td>-0.262521</td>\n",
              "      <td>0.266192</td>\n",
              "      <td>-0.724414</td>\n",
              "      <td>2.823658</td>\n",
              "      <td>0.849827</td>\n",
              "      <td>0.206259</td>\n",
              "      <td>0.541818</td>\n",
              "    </tr>\n",
              "    <tr>\n",
              "      <th>4778</th>\n",
              "      <td>0</td>\n",
              "      <td>0.991513</td>\n",
              "      <td>-0.583872</td>\n",
              "      <td>1.052105</td>\n",
              "      <td>1.112697</td>\n",
              "      <td>1.112697</td>\n",
              "      <td>-0.280913</td>\n",
              "      <td>1.076342</td>\n",
              "      <td>-1.032251</td>\n",
              "      <td>-1.807826</td>\n",
              "      <td>...</td>\n",
              "      <td>1.076342</td>\n",
              "      <td>0.615845</td>\n",
              "      <td>0.106874</td>\n",
              "      <td>1.064224</td>\n",
              "      <td>1.039987</td>\n",
              "      <td>-1.383684</td>\n",
              "      <td>-0.826239</td>\n",
              "      <td>1.076342</td>\n",
              "      <td>-1.553340</td>\n",
              "      <td>-1.117080</td>\n",
              "    </tr>\n",
              "    <tr>\n",
              "      <th>2777</th>\n",
              "      <td>0</td>\n",
              "      <td>1.180767</td>\n",
              "      <td>-0.089854</td>\n",
              "      <td>1.237790</td>\n",
              "      <td>-0.473307</td>\n",
              "      <td>1.226385</td>\n",
              "      <td>0.678972</td>\n",
              "      <td>-1.031162</td>\n",
              "      <td>-1.135561</td>\n",
              "      <td>-0.589982</td>\n",
              "      <td>...</td>\n",
              "      <td>-0.497705</td>\n",
              "      <td>0.737362</td>\n",
              "      <td>-1.843365</td>\n",
              "      <td>0.396836</td>\n",
              "      <td>0.479072</td>\n",
              "      <td>-2.252003</td>\n",
              "      <td>-0.085125</td>\n",
              "      <td>-1.218667</td>\n",
              "      <td>0.935574</td>\n",
              "      <td>-0.142147</td>\n",
              "    </tr>\n",
              "    <tr>\n",
              "      <th>4388</th>\n",
              "      <td>0</td>\n",
              "      <td>1.026874</td>\n",
              "      <td>-0.541431</td>\n",
              "      <td>0.948459</td>\n",
              "      <td>1.026874</td>\n",
              "      <td>1.026874</td>\n",
              "      <td>-0.494382</td>\n",
              "      <td>1.026874</td>\n",
              "      <td>-1.796075</td>\n",
              "      <td>0.932775</td>\n",
              "      <td>...</td>\n",
              "      <td>1.026874</td>\n",
              "      <td>-0.180721</td>\n",
              "      <td>0.101574</td>\n",
              "      <td>-0.353235</td>\n",
              "      <td>0.838677</td>\n",
              "      <td>-2.674326</td>\n",
              "      <td>-1.074655</td>\n",
              "      <td>1.011191</td>\n",
              "      <td>0.932775</td>\n",
              "      <td>-2.078370</td>\n",
              "    </tr>\n",
              "    <tr>\n",
              "      <th>3856</th>\n",
              "      <td>0</td>\n",
              "      <td>1.271477</td>\n",
              "      <td>0.213250</td>\n",
              "      <td>1.284227</td>\n",
              "      <td>1.207729</td>\n",
              "      <td>0.978234</td>\n",
              "      <td>0.480994</td>\n",
              "      <td>-0.768479</td>\n",
              "      <td>-0.475235</td>\n",
              "      <td>-0.449736</td>\n",
              "      <td>...</td>\n",
              "      <td>1.284227</td>\n",
              "      <td>-1.405966</td>\n",
              "      <td>0.238749</td>\n",
              "      <td>-1.240219</td>\n",
              "      <td>0.136751</td>\n",
              "      <td>-0.041745</td>\n",
              "      <td>-0.347738</td>\n",
              "      <td>1.284227</td>\n",
              "      <td>-0.908726</td>\n",
              "      <td>-0.424237</td>\n",
              "    </tr>\n",
              "    <tr>\n",
              "      <th>1159</th>\n",
              "      <td>0</td>\n",
              "      <td>-1.123127</td>\n",
              "      <td>-0.695765</td>\n",
              "      <td>0.237126</td>\n",
              "      <td>-1.183269</td>\n",
              "      <td>0.158651</td>\n",
              "      <td>-0.530502</td>\n",
              "      <td>0.676461</td>\n",
              "      <td>-0.770826</td>\n",
              "      <td>-0.954423</td>\n",
              "      <td>...</td>\n",
              "      <td>-2.369986</td>\n",
              "      <td>-1.785473</td>\n",
              "      <td>1.126078</td>\n",
              "      <td>-0.199772</td>\n",
              "      <td>-0.939673</td>\n",
              "      <td>-0.024669</td>\n",
              "      <td>-2.185132</td>\n",
              "      <td>-0.565934</td>\n",
              "      <td>0.081035</td>\n",
              "      <td>-0.354286</td>\n",
              "    </tr>\n",
              "    <tr>\n",
              "      <th>1495</th>\n",
              "      <td>0</td>\n",
              "      <td>1.805587</td>\n",
              "      <td>0.876869</td>\n",
              "      <td>0.205508</td>\n",
              "      <td>-0.110666</td>\n",
              "      <td>0.358262</td>\n",
              "      <td>0.351910</td>\n",
              "      <td>0.353190</td>\n",
              "      <td>1.211651</td>\n",
              "      <td>0.089564</td>\n",
              "      <td>...</td>\n",
              "      <td>-0.312798</td>\n",
              "      <td>-1.007265</td>\n",
              "      <td>-1.517746</td>\n",
              "      <td>0.168582</td>\n",
              "      <td>-2.282693</td>\n",
              "      <td>0.224540</td>\n",
              "      <td>1.602245</td>\n",
              "      <td>-1.612459</td>\n",
              "      <td>0.335077</td>\n",
              "      <td>0.532338</td>\n",
              "    </tr>\n",
              "    <tr>\n",
              "      <th>3573</th>\n",
              "      <td>0</td>\n",
              "      <td>0.958968</td>\n",
              "      <td>-0.018941</td>\n",
              "      <td>1.421493</td>\n",
              "      <td>1.421493</td>\n",
              "      <td>-1.155431</td>\n",
              "      <td>0.443583</td>\n",
              "      <td>-0.071801</td>\n",
              "      <td>-0.706121</td>\n",
              "      <td>0.707883</td>\n",
              "      <td>...</td>\n",
              "      <td>1.421493</td>\n",
              "      <td>-1.723676</td>\n",
              "      <td>0.773958</td>\n",
              "      <td>-1.710461</td>\n",
              "      <td>1.196838</td>\n",
              "      <td>-0.256811</td>\n",
              "      <td>0.152853</td>\n",
              "      <td>1.421493</td>\n",
              "      <td>-1.512236</td>\n",
              "      <td>0.258573</td>\n",
              "    </tr>\n",
              "  </tbody>\n",
              "</table>\n",
              "<p>10 rows × 1201 columns</p>\n",
              "</div>\n",
              "      <button class=\"colab-df-convert\" onclick=\"convertToInteractive('df-9a74050e-faa6-4ae6-a520-e6caba7ec679')\"\n",
              "              title=\"Convert this dataframe to an interactive table.\"\n",
              "              style=\"display:none;\">\n",
              "        \n",
              "  <svg xmlns=\"http://www.w3.org/2000/svg\" height=\"24px\"viewBox=\"0 0 24 24\"\n",
              "       width=\"24px\">\n",
              "    <path d=\"M0 0h24v24H0V0z\" fill=\"none\"/>\n",
              "    <path d=\"M18.56 5.44l.94 2.06.94-2.06 2.06-.94-2.06-.94-.94-2.06-.94 2.06-2.06.94zm-11 1L8.5 8.5l.94-2.06 2.06-.94-2.06-.94L8.5 2.5l-.94 2.06-2.06.94zm10 10l.94 2.06.94-2.06 2.06-.94-2.06-.94-.94-2.06-.94 2.06-2.06.94z\"/><path d=\"M17.41 7.96l-1.37-1.37c-.4-.4-.92-.59-1.43-.59-.52 0-1.04.2-1.43.59L10.3 9.45l-7.72 7.72c-.78.78-.78 2.05 0 2.83L4 21.41c.39.39.9.59 1.41.59.51 0 1.02-.2 1.41-.59l7.78-7.78 2.81-2.81c.8-.78.8-2.07 0-2.86zM5.41 20L4 18.59l7.72-7.72 1.47 1.35L5.41 20z\"/>\n",
              "  </svg>\n",
              "      </button>\n",
              "      \n",
              "  <style>\n",
              "    .colab-df-container {\n",
              "      display:flex;\n",
              "      flex-wrap:wrap;\n",
              "      gap: 12px;\n",
              "    }\n",
              "\n",
              "    .colab-df-convert {\n",
              "      background-color: #E8F0FE;\n",
              "      border: none;\n",
              "      border-radius: 50%;\n",
              "      cursor: pointer;\n",
              "      display: none;\n",
              "      fill: #1967D2;\n",
              "      height: 32px;\n",
              "      padding: 0 0 0 0;\n",
              "      width: 32px;\n",
              "    }\n",
              "\n",
              "    .colab-df-convert:hover {\n",
              "      background-color: #E2EBFA;\n",
              "      box-shadow: 0px 1px 2px rgba(60, 64, 67, 0.3), 0px 1px 3px 1px rgba(60, 64, 67, 0.15);\n",
              "      fill: #174EA6;\n",
              "    }\n",
              "\n",
              "    [theme=dark] .colab-df-convert {\n",
              "      background-color: #3B4455;\n",
              "      fill: #D2E3FC;\n",
              "    }\n",
              "\n",
              "    [theme=dark] .colab-df-convert:hover {\n",
              "      background-color: #434B5C;\n",
              "      box-shadow: 0px 1px 3px 1px rgba(0, 0, 0, 0.15);\n",
              "      filter: drop-shadow(0px 1px 2px rgba(0, 0, 0, 0.3));\n",
              "      fill: #FFFFFF;\n",
              "    }\n",
              "  </style>\n",
              "\n",
              "      <script>\n",
              "        const buttonEl =\n",
              "          document.querySelector('#df-9a74050e-faa6-4ae6-a520-e6caba7ec679 button.colab-df-convert');\n",
              "        buttonEl.style.display =\n",
              "          google.colab.kernel.accessAllowed ? 'block' : 'none';\n",
              "\n",
              "        async function convertToInteractive(key) {\n",
              "          const element = document.querySelector('#df-9a74050e-faa6-4ae6-a520-e6caba7ec679');\n",
              "          const dataTable =\n",
              "            await google.colab.kernel.invokeFunction('convertToInteractive',\n",
              "                                                     [key], {});\n",
              "          if (!dataTable) return;\n",
              "\n",
              "          const docLinkHtml = 'Like what you see? Visit the ' +\n",
              "            '<a target=\"_blank\" href=https://colab.research.google.com/notebooks/data_table.ipynb>data table notebook</a>'\n",
              "            + ' to learn more about interactive tables.';\n",
              "          element.innerHTML = '';\n",
              "          dataTable['output_type'] = 'display_data';\n",
              "          await google.colab.output.renderOutput(dataTable, element);\n",
              "          const docLink = document.createElement('div');\n",
              "          docLink.innerHTML = docLinkHtml;\n",
              "          element.appendChild(docLink);\n",
              "        }\n",
              "      </script>\n",
              "    </div>\n",
              "  </div>\n",
              "  "
            ]
          },
          "metadata": {},
          "execution_count": 6
        }
      ]
    },
    {
      "cell_type": "code",
      "source": [
        "X=df.drop(columns=['labels'])"
      ],
      "metadata": {
        "id": "24vQQQ6o17HG"
      },
      "execution_count": 7,
      "outputs": []
    },
    {
      "cell_type": "code",
      "source": [
        "ids=test_data['id']"
      ],
      "metadata": {
        "id": "s9-AxzLZjceD"
      },
      "execution_count": 8,
      "outputs": []
    },
    {
      "cell_type": "code",
      "source": [
        "test_data=test_data.drop(columns=['id'])"
      ],
      "metadata": {
        "id": "etHJDJ5GjmA6"
      },
      "execution_count": 9,
      "outputs": []
    },
    {
      "cell_type": "code",
      "source": [
        "X.shape"
      ],
      "metadata": {
        "colab": {
          "base_uri": "https://localhost:8080/"
        },
        "id": "u4PbF79R17h-",
        "outputId": "5da0ebdf-866a-41c8-ec4d-e40f682e9ca7"
      },
      "execution_count": 10,
      "outputs": [
        {
          "output_type": "execute_result",
          "data": {
            "text/plain": [
              "(5250, 1200)"
            ]
          },
          "metadata": {},
          "execution_count": 10
        }
      ]
    },
    {
      "cell_type": "code",
      "source": [
        "X.isna().sum()"
      ],
      "metadata": {
        "colab": {
          "base_uri": "https://localhost:8080/"
        },
        "id": "ahBcPGzA6iHj",
        "outputId": "5ad2953f-a235-4e92-8642-21679a8d4666"
      },
      "execution_count": 11,
      "outputs": [
        {
          "output_type": "execute_result",
          "data": {
            "text/plain": [
              "f_0       0\n",
              "f_1       0\n",
              "f_2       0\n",
              "f_3       0\n",
              "f_4       0\n",
              "         ..\n",
              "f_1195    0\n",
              "f_1196    0\n",
              "f_1197    0\n",
              "f_1198    0\n",
              "f_1199    0\n",
              "Length: 1200, dtype: int64"
            ]
          },
          "metadata": {},
          "execution_count": 11
        }
      ]
    },
    {
      "cell_type": "code",
      "source": [
        "#Creating the sequential model\n",
        "model = Sequential()\n",
        "\n",
        "model.add(Dense(64,activation='relu',kernel_initializer='he_normal',input_shape=(1200,)))\n",
        "model.add(Dropout(0.4))#Adding DropOut Layers to prevent overfitting\n",
        "model.add(BatchNormalization())#Applying Batch Normalization to improve performance\n",
        "\n",
        "model.add(Dense(32,activation='relu'))\n",
        "model.add(Dropout(0.4))\n",
        "model.add(BatchNormalization())\n",
        "\n",
        "model.add(Dense(32,activation='relu'))\n",
        "model.add(Dropout(0.4))\n",
        "model.add(BatchNormalization())\n",
        "\n",
        "model.add(Dense(1,activation='sigmoid'))\n"
      ],
      "metadata": {
        "id": "-TOJUiG_65SP"
      },
      "execution_count": 12,
      "outputs": []
    },
    {
      "cell_type": "code",
      "source": [
        "model.summary()"
      ],
      "metadata": {
        "colab": {
          "base_uri": "https://localhost:8080/"
        },
        "id": "b01-bihYmiD5",
        "outputId": "6ca16428-53b9-4104-9d34-e12c72a86754"
      },
      "execution_count": 13,
      "outputs": [
        {
          "output_type": "stream",
          "name": "stdout",
          "text": [
            "Model: \"sequential\"\n",
            "_________________________________________________________________\n",
            " Layer (type)                Output Shape              Param #   \n",
            "=================================================================\n",
            " dense (Dense)               (None, 64)                76864     \n",
            "                                                                 \n",
            " dropout (Dropout)           (None, 64)                0         \n",
            "                                                                 \n",
            " batch_normalization (BatchN  (None, 64)               256       \n",
            " ormalization)                                                   \n",
            "                                                                 \n",
            " dense_1 (Dense)             (None, 32)                2080      \n",
            "                                                                 \n",
            " dropout_1 (Dropout)         (None, 32)                0         \n",
            "                                                                 \n",
            " batch_normalization_1 (Batc  (None, 32)               128       \n",
            " hNormalization)                                                 \n",
            "                                                                 \n",
            " dense_2 (Dense)             (None, 32)                1056      \n",
            "                                                                 \n",
            " dropout_2 (Dropout)         (None, 32)                0         \n",
            "                                                                 \n",
            " batch_normalization_2 (Batc  (None, 32)               128       \n",
            " hNormalization)                                                 \n",
            "                                                                 \n",
            " dense_3 (Dense)             (None, 1)                 33        \n",
            "                                                                 \n",
            "=================================================================\n",
            "Total params: 80,545\n",
            "Trainable params: 80,289\n",
            "Non-trainable params: 256\n",
            "_________________________________________________________________\n"
          ]
        }
      ]
    },
    {
      "cell_type": "code",
      "source": [
        "#Visualizing the structure of the model\n",
        "from keras.utils.vis_utils import plot_model\n",
        "plot_model(model, to_file='model_plot.png', show_shapes=True, show_layer_names=True)"
      ],
      "metadata": {
        "colab": {
          "base_uri": "https://localhost:8080/",
          "height": 1000
        },
        "id": "bHvZYfuhJSJP",
        "outputId": "e323ede6-c670-466c-cd29-ca1879ccbd88"
      },
      "execution_count": 14,
      "outputs": [
        {
          "output_type": "execute_result",
          "data": {
            "image/png": "[encoded data removed]",
            "text/plain": [
              "<IPython.core.display.Image object>"
            ]
          },
          "metadata": {},
          "execution_count": 14
        }
      ]
    },
    {
      "cell_type": "code",
      "source": [
        "Y=df['labels']"
      ],
      "metadata": {
        "id": "L_lQ7octnGDQ"
      },
      "execution_count": 15,
      "outputs": []
    },
    {
      "cell_type": "code",
      "source": [
        "model.compile(optimizer='adam',loss='binary_crossentropy',metrics=['accuracy'])"
      ],
      "metadata": {
        "id": "fChcItW08eLy"
      },
      "execution_count": 16,
      "outputs": []
    },
    {
      "cell_type": "code",
      "source": [
        "history = model.fit(X,Y,epochs=10)"
      ],
      "metadata": {
        "colab": {
          "base_uri": "https://localhost:8080/"
        },
        "id": "MleROzIZ8hWO",
        "outputId": "26b3a740-16c4-4e74-8370-4ea128c4209f"
      },
      "execution_count": 17,
      "outputs": [
        {
          "output_type": "stream",
          "name": "stderr",
          "text": [
            "/usr/local/lib/python3.10/dist-packages/tensorflow/python/data/ops/structured_function.py:254: UserWarning: Even though the `tf.config.experimental_run_functions_eagerly` option is set, this option does not apply to tf.data functions. To force eager execution of tf.data functions, please use `tf.data.experimental.enable_debug_mode()`.\n",
            "  warnings.warn(\n"
          ]
        },
        {
          "output_type": "stream",
          "name": "stdout",
          "text": [
            "Epoch 1/10\n"
          ]
        },
        {
          "output_type": "stream",
          "name": "stderr",
          "text": [
            "/usr/local/lib/python3.10/dist-packages/tensorflow/python/data/ops/structured_function.py:254: UserWarning: Even though the `tf.config.experimental_run_functions_eagerly` option is set, this option does not apply to tf.data functions. To force eager execution of tf.data functions, please use `tf.data.experimental.enable_debug_mode()`.\n",
            "  warnings.warn(\n"
          ]
        },
        {
          "output_type": "stream",
          "name": "stdout",
          "text": [
            "165/165 [==============================] - 18s 84ms/step - loss: 0.6057 - accuracy: 0.6869\n",
            "Epoch 2/10\n",
            "165/165 [==============================] - 13s 82ms/step - loss: 0.4493 - accuracy: 0.7870\n",
            "Epoch 3/10\n",
            "165/165 [==============================] - 13s 81ms/step - loss: 0.3811 - accuracy: 0.8278\n",
            "Epoch 4/10\n",
            "165/165 [==============================] - 14s 86ms/step - loss: 0.3579 - accuracy: 0.8402\n",
            "Epoch 5/10\n",
            "165/165 [==============================] - 13s 78ms/step - loss: 0.3154 - accuracy: 0.8617\n",
            "Epoch 6/10\n",
            "165/165 [==============================] - 14s 84ms/step - loss: 0.2970 - accuracy: 0.8752\n",
            "Epoch 7/10\n",
            "165/165 [==============================] - 13s 79ms/step - loss: 0.2582 - accuracy: 0.8857\n",
            "Epoch 8/10\n",
            "165/165 [==============================] - 13s 79ms/step - loss: 0.2412 - accuracy: 0.9013\n",
            "Epoch 9/10\n",
            "165/165 [==============================] - 13s 80ms/step - loss: 0.2233 - accuracy: 0.9116\n",
            "Epoch 10/10\n",
            "165/165 [==============================] - 13s 79ms/step - loss: 0.2023 - accuracy: 0.9194\n"
          ]
        }
      ]
    },
    {
      "cell_type": "code",
      "source": [
        "Y_pred=model.predict(test_data)"
      ],
      "metadata": {
        "colab": {
          "base_uri": "https://localhost:8080/"
        },
        "id": "rs_s-MKYt8wP",
        "outputId": "d750c3d6-4a90-48f4-c289-f29f775fc3b7"
      },
      "execution_count": 18,
      "outputs": [
        {
          "output_type": "stream",
          "name": "stdout",
          "text": [
            "14/71 [====>.........................] - ETA: 0s"
          ]
        },
        {
          "output_type": "stream",
          "name": "stderr",
          "text": [
            "/usr/local/lib/python3.10/dist-packages/tensorflow/python/data/ops/structured_function.py:254: UserWarning: Even though the `tf.config.experimental_run_functions_eagerly` option is set, this option does not apply to tf.data functions. To force eager execution of tf.data functions, please use `tf.data.experimental.enable_debug_mode()`.\n",
            "  warnings.warn(\n"
          ]
        },
        {
          "output_type": "stream",
          "name": "stdout",
          "text": [
            "71/71 [==============================] - 1s 8ms/step\n"
          ]
        }
      ]
    },
    {
      "cell_type": "code",
      "source": [
        "def my_function(x):\n",
        "  return 1 if x>0.5 else 0"
      ],
      "metadata": {
        "id": "fzSLbyZGt-qs"
      },
      "execution_count": 19,
      "outputs": []
    },
    {
      "cell_type": "code",
      "source": [
        "Y_pred = np.array([my_function(xi) for xi in Y_pred])"
      ],
      "metadata": {
        "id": "LswbWn9quHDw"
      },
      "execution_count": 20,
      "outputs": []
    },
    {
      "cell_type": "code",
      "source": [
        "Y_pred\n"
      ],
      "metadata": {
        "colab": {
          "base_uri": "https://localhost:8080/"
        },
        "id": "6HizlDM4uIyM",
        "outputId": "c0b56875-9338-483f-900a-17714bc2abc7"
      },
      "execution_count": 21,
      "outputs": [
        {
          "output_type": "execute_result",
          "data": {
            "text/plain": [
              "array([0, 0, 1, ..., 1, 0, 1])"
            ]
          },
          "metadata": {},
          "execution_count": 21
        }
      ]
    },
    {
      "cell_type": "code",
      "source": [
        "Y_pred=Y_pred.reshape(2250,1)"
      ],
      "metadata": {
        "id": "LWYWdLCQuKuu"
      },
      "execution_count": 22,
      "outputs": []
    },
    {
      "cell_type": "code",
      "source": [
        "ids"
      ],
      "metadata": {
        "colab": {
          "base_uri": "https://localhost:8080/"
        },
        "id": "8H_zy8ywuNDm",
        "outputId": "38ff988c-57b7-4fae-b6b5-3f975c779bb9"
      },
      "execution_count": 23,
      "outputs": [
        {
          "output_type": "execute_result",
          "data": {
            "text/plain": [
              "0          1\n",
              "1          2\n",
              "2          3\n",
              "3          4\n",
              "4          5\n",
              "        ... \n",
              "2245    2246\n",
              "2246    2247\n",
              "2247    2248\n",
              "2248    2249\n",
              "2249    2250\n",
              "Name: id, Length: 2250, dtype: int64"
            ]
          },
          "metadata": {},
          "execution_count": 23
        }
      ]
    },
    {
      "cell_type": "code",
      "source": [
        "labels = pd.DataFrame(Y_pred, columns = ['labels'])"
      ],
      "metadata": {
        "id": "29OjattBuO0M"
      },
      "execution_count": 24,
      "outputs": []
    },
    {
      "cell_type": "code",
      "source": [
        "ids=pd.concat([ids,labels],axis=1,join='inner')"
      ],
      "metadata": {
        "id": "fhoT3hskuQv7"
      },
      "execution_count": 25,
      "outputs": []
    },
    {
      "cell_type": "code",
      "source": [
        "ids"
      ],
      "metadata": {
        "colab": {
          "base_uri": "https://localhost:8080/",
          "height": 423
        },
        "id": "Ad2c12VYuSof",
        "outputId": "68dc6588-6f43-4b60-92f2-2382a6f325b3"
      },
      "execution_count": 26,
      "outputs": [
        {
          "output_type": "execute_result",
          "data": {
            "text/plain": [
              "        id  labels\n",
              "0        1       0\n",
              "1        2       0\n",
              "2        3       1\n",
              "3        4       0\n",
              "4        5       0\n",
              "...    ...     ...\n",
              "2245  2246       0\n",
              "2246  2247       0\n",
              "2247  2248       1\n",
              "2248  2249       0\n",
              "2249  2250       1\n",
              "\n",
              "[2250 rows x 2 columns]"
            ],
            "text/html": [
              "\n",
              "  <div id=\"df-b18eb2b5-7b4b-4c67-a6c8-dccf86b52edf\">\n",
              "    <div class=\"colab-df-container\">\n",
              "      <div>\n",
              "<style scoped>\n",
              "    .dataframe tbody tr th:only-of-type {\n",
              "        vertical-align: middle;\n",
              "    }\n",
              "\n",
              "    .dataframe tbody tr th {\n",
              "        vertical-align: top;\n",
              "    }\n",
              "\n",
              "    .dataframe thead th {\n",
              "        text-align: right;\n",
              "    }\n",
              "</style>\n",
              "<table border=\"1\" class=\"dataframe\">\n",
              "  <thead>\n",
              "    <tr style=\"text-align: right;\">\n",
              "      <th></th>\n",
              "      <th>id</th>\n",
              "      <th>labels</th>\n",
              "    </tr>\n",
              "  </thead>\n",
              "  <tbody>\n",
              "    <tr>\n",
              "      <th>0</th>\n",
              "      <td>1</td>\n",
              "      <td>0</td>\n",
              "    </tr>\n",
              "    <tr>\n",
              "      <th>1</th>\n",
              "      <td>2</td>\n",
              "      <td>0</td>\n",
              "    </tr>\n",
              "    <tr>\n",
              "      <th>2</th>\n",
              "      <td>3</td>\n",
              "      <td>1</td>\n",
              "    </tr>\n",
              "    <tr>\n",
              "      <th>3</th>\n",
              "      <td>4</td>\n",
              "      <td>0</td>\n",
              "    </tr>\n",
              "    <tr>\n",
              "      <th>4</th>\n",
              "      <td>5</td>\n",
              "      <td>0</td>\n",
              "    </tr>\n",
              "    <tr>\n",
              "      <th>...</th>\n",
              "      <td>...</td>\n",
              "      <td>...</td>\n",
              "    </tr>\n",
              "    <tr>\n",
              "      <th>2245</th>\n",
              "      <td>2246</td>\n",
              "      <td>0</td>\n",
              "    </tr>\n",
              "    <tr>\n",
              "      <th>2246</th>\n",
              "      <td>2247</td>\n",
              "      <td>0</td>\n",
              "    </tr>\n",
              "    <tr>\n",
              "      <th>2247</th>\n",
              "      <td>2248</td>\n",
              "      <td>1</td>\n",
              "    </tr>\n",
              "    <tr>\n",
              "      <th>2248</th>\n",
              "      <td>2249</td>\n",
              "      <td>0</td>\n",
              "    </tr>\n",
              "    <tr>\n",
              "      <th>2249</th>\n",
              "      <td>2250</td>\n",
              "      <td>1</td>\n",
              "    </tr>\n",
              "  </tbody>\n",
              "</table>\n",
              "<p>2250 rows × 2 columns</p>\n",
              "</div>\n",
              "      <button class=\"colab-df-convert\" onclick=\"convertToInteractive('df-b18eb2b5-7b4b-4c67-a6c8-dccf86b52edf')\"\n",
              "              title=\"Convert this dataframe to an interactive table.\"\n",
              "              style=\"display:none;\">\n",
              "        \n",
              "  <svg xmlns=\"http://www.w3.org/2000/svg\" height=\"24px\"viewBox=\"0 0 24 24\"\n",
              "       width=\"24px\">\n",
              "    <path d=\"M0 0h24v24H0V0z\" fill=\"none\"/>\n",
              "    <path d=\"M18.56 5.44l.94 2.06.94-2.06 2.06-.94-2.06-.94-.94-2.06-.94 2.06-2.06.94zm-11 1L8.5 8.5l.94-2.06 2.06-.94-2.06-.94L8.5 2.5l-.94 2.06-2.06.94zm10 10l.94 2.06.94-2.06 2.06-.94-2.06-.94-.94-2.06-.94 2.06-2.06.94z\"/><path d=\"M17.41 7.96l-1.37-1.37c-.4-.4-.92-.59-1.43-.59-.52 0-1.04.2-1.43.59L10.3 9.45l-7.72 7.72c-.78.78-.78 2.05 0 2.83L4 21.41c.39.39.9.59 1.41.59.51 0 1.02-.2 1.41-.59l7.78-7.78 2.81-2.81c.8-.78.8-2.07 0-2.86zM5.41 20L4 18.59l7.72-7.72 1.47 1.35L5.41 20z\"/>\n",
              "  </svg>\n",
              "      </button>\n",
              "      \n",
              "  <style>\n",
              "    .colab-df-container {\n",
              "      display:flex;\n",
              "      flex-wrap:wrap;\n",
              "      gap: 12px;\n",
              "    }\n",
              "\n",
              "    .colab-df-convert {\n",
              "      background-color: #E8F0FE;\n",
              "      border: none;\n",
              "      border-radius: 50%;\n",
              "      cursor: pointer;\n",
              "      display: none;\n",
              "      fill: #1967D2;\n",
              "      height: 32px;\n",
              "      padding: 0 0 0 0;\n",
              "      width: 32px;\n",
              "    }\n",
              "\n",
              "    .colab-df-convert:hover {\n",
              "      background-color: #E2EBFA;\n",
              "      box-shadow: 0px 1px 2px rgba(60, 64, 67, 0.3), 0px 1px 3px 1px rgba(60, 64, 67, 0.15);\n",
              "      fill: #174EA6;\n",
              "    }\n",
              "\n",
              "    [theme=dark] .colab-df-convert {\n",
              "      background-color: #3B4455;\n",
              "      fill: #D2E3FC;\n",
              "    }\n",
              "\n",
              "    [theme=dark] .colab-df-convert:hover {\n",
              "      background-color: #434B5C;\n",
              "      box-shadow: 0px 1px 3px 1px rgba(0, 0, 0, 0.15);\n",
              "      filter: drop-shadow(0px 1px 2px rgba(0, 0, 0, 0.3));\n",
              "      fill: #FFFFFF;\n",
              "    }\n",
              "  </style>\n",
              "\n",
              "      <script>\n",
              "        const buttonEl =\n",
              "          document.querySelector('#df-b18eb2b5-7b4b-4c67-a6c8-dccf86b52edf button.colab-df-convert');\n",
              "        buttonEl.style.display =\n",
              "          google.colab.kernel.accessAllowed ? 'block' : 'none';\n",
              "\n",
              "        async function convertToInteractive(key) {\n",
              "          const element = document.querySelector('#df-b18eb2b5-7b4b-4c67-a6c8-dccf86b52edf');\n",
              "          const dataTable =\n",
              "            await google.colab.kernel.invokeFunction('convertToInteractive',\n",
              "                                                     [key], {});\n",
              "          if (!dataTable) return;\n",
              "\n",
              "          const docLinkHtml = 'Like what you see? Visit the ' +\n",
              "            '<a target=\"_blank\" href=https://colab.research.google.com/notebooks/data_table.ipynb>data table notebook</a>'\n",
              "            + ' to learn more about interactive tables.';\n",
              "          element.innerHTML = '';\n",
              "          dataTable['output_type'] = 'display_data';\n",
              "          await google.colab.output.renderOutput(dataTable, element);\n",
              "          const docLink = document.createElement('div');\n",
              "          docLink.innerHTML = docLinkHtml;\n",
              "          element.appendChild(docLink);\n",
              "        }\n",
              "      </script>\n",
              "    </div>\n",
              "  </div>\n",
              "  "
            ]
          },
          "metadata": {},
          "execution_count": 26
        }
      ]
    },
    {
      "cell_type": "code",
      "source": [
        "#Converting final solution to CSV\n",
        "ids.to_csv('ANN_final_submission.csv',index=False)"
      ],
      "metadata": {
        "id": "zuYFboReuUay"
      },
      "execution_count": 29,
      "outputs": []
    },
    {
      "cell_type": "code",
      "source": [],
      "metadata": {
        "id": "3YL2B_JCLgJI"
      },
      "execution_count": null,
      "outputs": []
    }
  ]
}